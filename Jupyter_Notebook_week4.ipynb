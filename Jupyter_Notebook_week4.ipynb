{
  "metadata": {
    "kernelspec": {
      "name": "python",
      "display_name": "Pyolite",
      "language": "python"
    },
    "language_info": {
      "codemirror_mode": {
        "name": "python",
        "version": 3
      },
      "file_extension": ".py",
      "mimetype": "text/x-python",
      "name": "python",
      "nbconvert_exporter": "python",
      "pygments_lexer": "ipython3",
      "version": "3.8"
    }
  },
  "nbformat_minor": 4,
  "nbformat": 4,
  "cells": [
    {
      "cell_type": "markdown",
      "source": "# My Jupyter Notebook in SkillsNetwork Lab\n(because Watson Studio didn't work for me)",
      "metadata": {}
    },
    {
      "cell_type": "markdown",
      "source": "**Patrick Matt**\n\nmathematician",
      "metadata": {}
    },
    {
      "cell_type": "markdown",
      "source": "*I am interested in Data Science because it encompasses what I like to do: finding answers to questions through analyzing data and communicating those answers to others.*",
      "metadata": {}
    },
    {
      "cell_type": "markdown",
      "source": "### the following code returns the square root of a number",
      "metadata": {}
    },
    {
      "cell_type": "code",
      "source": "def square_root(n):\n    return n ** 0.5\n\nsquare_root(5)",
      "metadata": {
        "trusted": true
      },
      "execution_count": 7,
      "outputs": [
        {
          "execution_count": 7,
          "output_type": "execute_result",
          "data": {
            "text/plain": "2.23606797749979"
          },
          "metadata": {}
        }
      ]
    },
    {
      "cell_type": "markdown",
      "source": "---\nhorizontal rule\n\n---\n\nhere comes a `highlight`\n\nbut we don't like ~~highlights~~",
      "metadata": {}
    }
  ]
}